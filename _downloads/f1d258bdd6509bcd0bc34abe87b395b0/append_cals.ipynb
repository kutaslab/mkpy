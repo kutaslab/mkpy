{
  "cells": [
    {
      "cell_type": "code",
      "execution_count": null,
      "metadata": {
        "collapsed": false
      },
      "outputs": [],
      "source": [
        "%matplotlib inline"
      ]
    },
    {
      "cell_type": "markdown",
      "metadata": {},
      "source": [
        "\n# append separate cals\n"
      ]
    },
    {
      "cell_type": "markdown",
      "metadata": {},
      "source": [
        "## Set up\n\n"
      ]
    },
    {
      "cell_type": "code",
      "execution_count": null,
      "metadata": {
        "collapsed": false
      },
      "outputs": [],
      "source": [
        "from pathlib import Path\nfrom matplotlib import pyplot as plt  # for inspecting cal pulses\nfrom mkpy import mkh5\n\nMKDIG_PATH = Path(\"../mkdig_data\")\n\nprint(\"mkpy version\", mkh5.__version__)"
      ]
    },
    {
      "cell_type": "markdown",
      "metadata": {},
      "source": [
        "## Create subject, append cals\n\nUse :meth:`mkh5.append_mkdata()<mkpy.mkh5.mkh5.append_mkdata>` to\ncombine EEG recordings  and separately recorded calibration data in\na single .h5 file prior to converting A/D samples to $\\mu$ V.\n\n"
      ]
    },
    {
      "cell_type": "markdown",
      "metadata": {},
      "source": [
        "Set EEG and calibration data file names\n\n"
      ]
    },
    {
      "cell_type": "code",
      "execution_count": null,
      "metadata": {
        "collapsed": false
      },
      "outputs": [],
      "source": [
        "crw = MKDIG_PATH / \"sub000p3.crw\"  # EEG recording\nlog = MKDIG_PATH / \"sub000p3.x.log\"  # events\nyhdr = MKDIG_PATH / \"sub000p3.yhdr\"  # extra header info\n\ncals_crw = MKDIG_PATH / \"sub000c.crw\"\ncals_log = MKDIG_PATH / \"sub000c.log\"\ncals_yhdr = MKDIG_PATH / \"sub000c.yhdr\""
      ]
    },
    {
      "cell_type": "markdown",
      "metadata": {},
      "source": [
        "Convert .crw/.log to mkh5 format .h5.\n\n"
      ]
    },
    {
      "cell_type": "code",
      "execution_count": null,
      "metadata": {
        "collapsed": false
      },
      "outputs": [],
      "source": [
        "p3_h5_f = \"example_sub000p3.h5\"\np3_h5 = mkh5.mkh5(p3_h5_f)\np3_h5.reset_all()\np3_h5.create_mkdata(\"sub000\", crw, log, yhdr)"
      ]
    },
    {
      "cell_type": "markdown",
      "metadata": {},
      "source": [
        "Append calibration data to the existing ``sub000``.\n\n"
      ]
    },
    {
      "cell_type": "code",
      "execution_count": null,
      "metadata": {
        "collapsed": false
      },
      "outputs": [],
      "source": [
        "p3_h5.append_mkdata(\"sub000\", cals_crw, cals_log, cals_yhdr)"
      ]
    },
    {
      "cell_type": "markdown",
      "metadata": {},
      "source": [
        "Convert EEG and calibration data A/D to microvolts.\nset re-usable calibration parameters\n\n"
      ]
    },
    {
      "cell_type": "code",
      "execution_count": null,
      "metadata": {
        "collapsed": false
      },
      "outputs": [],
      "source": [
        "cal_kws = dict(\n    n_points=5,  # samples to average\n    cal_size=10,  # uV\n    lo_cursor=-36,  # lo_cursor ms\n    hi_cursor=48,  # hi_cursor ms\n    cal_ccode=0,  # condition code\n)"
      ]
    },
    {
      "cell_type": "markdown",
      "metadata": {},
      "source": [
        "inspect the calibration pulses\n\n"
      ]
    },
    {
      "cell_type": "code",
      "execution_count": null,
      "metadata": {
        "collapsed": false
      },
      "outputs": [],
      "source": [
        "f, ax = p3_h5.plotcals(p3_h5_f, \"sub000\", **cal_kws)\nplt.show()"
      ]
    },
    {
      "cell_type": "markdown",
      "metadata": {},
      "source": [
        "Convert EEG and calibration data A/D to microvolts.\n\n"
      ]
    },
    {
      "cell_type": "code",
      "execution_count": null,
      "metadata": {
        "collapsed": false
      },
      "outputs": [],
      "source": [
        "p3_h5.calibrate_mkdata(\"sub000\", **cal_kws)"
      ]
    }
  ],
  "metadata": {
    "kernelspec": {
      "display_name": "Python 3",
      "language": "python",
      "name": "python3"
    },
    "language_info": {
      "codemirror_mode": {
        "name": "ipython",
        "version": 3
      },
      "file_extension": ".py",
      "mimetype": "text/x-python",
      "name": "python",
      "nbconvert_exporter": "python",
      "pygments_lexer": "ipython3",
      "version": "3.8.13"
    }
  },
  "nbformat": 4,
  "nbformat_minor": 0
}