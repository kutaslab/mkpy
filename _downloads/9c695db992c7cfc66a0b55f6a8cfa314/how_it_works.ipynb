{
  "cells": [
    {
      "cell_type": "code",
      "execution_count": null,
      "metadata": {
        "collapsed": false
      },
      "outputs": [],
      "source": [
        "%matplotlib inline"
      ]
    },
    {
      "cell_type": "markdown",
      "metadata": {},
      "source": [
        "\n# How it works\n"
      ]
    },
    {
      "cell_type": "markdown",
      "metadata": {},
      "source": [
        "The sample mkh5 file is for a single subject in an auditory oddball paradigm with\nsome epochs tables previously marked.\n\nConverting mkh5 HDF5 to MNE RawMkh5 does several things:\n\n* concatenates the separate mkh5 datablock EEG and event data channels into one long mne.Raw strip chart\n\n* populates the mne.Info structure with header info including\n  electrode names and locations\n\n* extracts all the mkpy epochs tables from the HDF5 and packs them into the mne.Info\n\n* for each epoch table, a new \"stim\" event code channel is created in the mne.Raw with\n  the name of the epochs table and all and only the events from that table.\n\n\n"
      ]
    },
    {
      "cell_type": "markdown",
      "metadata": {},
      "source": [
        "FYI ... environment and versions.\n\n"
      ]
    },
    {
      "cell_type": "code",
      "execution_count": null,
      "metadata": {
        "collapsed": false
      },
      "outputs": [],
      "source": [
        "import os\nimport mne\nimport mkpy\nfrom mkpy.io import mkh5mne\n\nmne.viz.set_browser_backend(\"matplotlib\")  # for docs generation\n\nprint(\"conda env\", os.environ[\"CONDA_DEFAULT_ENV\"])\nfor pkg in [mkpy, mne]:\n    print(pkg.__name__, pkg.__version__)"
      ]
    },
    {
      "cell_type": "markdown",
      "metadata": {},
      "source": [
        "Convert the EEG and event-tagged epochs. Electrode locations are\nrequired, they can be included in the YAML .yhdr when the mkh5 file\nis created or added during conversion as shown.\n\n"
      ]
    },
    {
      "cell_type": "code",
      "execution_count": null,
      "metadata": {
        "collapsed": false
      },
      "outputs": [],
      "source": [
        "p3_h5_f = \"../mkh5_data/sub000p3.h5\"\nmne_raw = mkh5mne.from_mkh5(p3_h5_f, apparatus_yaml=\"mne_32chan_xyz_spherical.yml\")"
      ]
    },
    {
      "cell_type": "markdown",
      "metadata": {},
      "source": [
        "When the mkh5 datablocks are knit together for MNE, the discontinuities at edges\nare tracked automatically as mne.Annotations\n\n"
      ]
    },
    {
      "cell_type": "code",
      "execution_count": null,
      "metadata": {
        "collapsed": false
      },
      "outputs": [],
      "source": [
        "mne_raw.annotations.description"
      ]
    },
    {
      "cell_type": "markdown",
      "metadata": {},
      "source": [
        "The mne_raw object has the mne.Info attached. You can see the mkh5 epoch_table info\npeeking out of the mne.Info[\"description\"] field.\n\n"
      ]
    },
    {
      "cell_type": "code",
      "execution_count": null,
      "metadata": {
        "collapsed": false
      },
      "outputs": [],
      "source": [
        "mne_raw.info"
      ]
    },
    {
      "cell_type": "markdown",
      "metadata": {},
      "source": [
        "This RawMkh5 object can do all the usual mne.Raw tricks like plotting and writing\nitself to an MNE raw `.fif` file.\n%%\n\n"
      ]
    },
    {
      "cell_type": "code",
      "execution_count": null,
      "metadata": {
        "collapsed": false
      },
      "outputs": [],
      "source": [
        "p3_events = mkh5mne.find_mkh5_events(mne_raw, \"ms1500\")\n_ = mne_raw.plot(\n    p3_events,\n    start=53.0,\n    duration=3.0,\n)\n_ = mne.viz.plot_sensors(mne_raw.info)"
      ]
    },
    {
      "cell_type": "markdown",
      "metadata": {},
      "source": [
        "## Annotate garv artifacts (optional)\n\nThe mkh5 log_flags that indicate garv artifact events after ``avg\n-x`` can be converted to `BAD_garv` mne.Annotations for events on\nany of the event channels.\n\n"
      ]
    },
    {
      "cell_type": "code",
      "execution_count": null,
      "metadata": {
        "collapsed": false
      },
      "outputs": [],
      "source": [
        "# Select the event channel to annotate (\"log_evcodes\" for all), then\n# then add the annotations to the mne.Raw\ngarv_bads = mkh5mne.get_garv_bads(\n    mne_raw, event_channel=\"ms1500\", tmin=-750, tmax=750, units=\"ms\"\n)\nmne_raw.set_annotations(mne_raw.annotations + garv_bads)\nmne_raw.annotations"
      ]
    },
    {
      "cell_type": "markdown",
      "metadata": {},
      "source": [
        "## mne.Epochs codemap metadata\n\nUse :py:meth:.`get_epochs_metadata` to extract mne.Epochs with\nthe codemap metatdata\nas MNE format metata when constructing mne.Epochs.\n\n"
      ]
    },
    {
      "cell_type": "code",
      "execution_count": null,
      "metadata": {
        "collapsed": false
      },
      "outputs": [],
      "source": [
        "mne_epochs = mkh5mne.get_epochs(\n    mne_raw,\n    \"ms1500\",\n    preload=True,  # populate the Epochs with data and apply projections\n    reject_by_annotation=True,  # drop the BAD_* annotations or set False to keep them\n    baseline=(-0.2, 0.0),  # center on this interval\n)\nmne_epochs"
      ]
    },
    {
      "cell_type": "markdown",
      "metadata": {},
      "source": [
        "The mkh5 codemap tags are attached as native mne.Epochs.metadata\n\n"
      ]
    },
    {
      "cell_type": "code",
      "execution_count": null,
      "metadata": {
        "collapsed": false
      },
      "outputs": [],
      "source": [
        "mne_epochs.metadata"
      ]
    },
    {
      "cell_type": "markdown",
      "metadata": {},
      "source": [
        "### :py:mod:`.mkh5mne` raw data utilities\n\nThese utility functions access mkh5 information embedded in the RawMkH5 object.\n\n## :py:meth:`.find_mkh5_events`\n\nThis is a replacement for :py:meth:`mne.find_events` that creates\nthe 3 column array of [sample, 0, event] used for native mne.Raw epoching and\nplotting without doing wrong things like converting negative event\ncodes to positive.\n\n"
      ]
    },
    {
      "cell_type": "code",
      "execution_count": null,
      "metadata": {
        "collapsed": false
      },
      "outputs": [],
      "source": [
        "print(garv_bads, garv_bads.description)\np3_events = mkh5mne.find_mkh5_events(mne_raw, \"ms1500\")\np3_events\n\n# :py:meth:`.get_find_mkh5_events`\n# ----------------------------\n#\n# This extracts the embedded epochs table from the RawMkh5.\nmetadata = mkh5mne.get_epochs_metadata(mne_raw, \"ms1500\")\nmetadata"
      ]
    }
  ],
  "metadata": {
    "kernelspec": {
      "display_name": "Python 3",
      "language": "python",
      "name": "python3"
    },
    "language_info": {
      "codemirror_mode": {
        "name": "ipython",
        "version": 3
      },
      "file_extension": ".py",
      "mimetype": "text/x-python",
      "name": "python",
      "nbconvert_exporter": "python",
      "pygments_lexer": "ipython3",
      "version": "3.8.13"
    }
  },
  "nbformat": 4,
  "nbformat_minor": 0
}