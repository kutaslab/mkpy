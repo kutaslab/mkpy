{
  "cells": [
    {
      "cell_type": "code",
      "execution_count": null,
      "metadata": {
        "collapsed": false
      },
      "outputs": [],
      "source": [
        "%matplotlib inline"
      ]
    },
    {
      "cell_type": "markdown",
      "metadata": {},
      "source": [
        "\n\n\n# Quickstart: mkh5 to EEGLAB\n"
      ]
    },
    {
      "cell_type": "markdown",
      "metadata": {},
      "source": [
        "Converting mkh5 to EEGLAB .set requires MNE Python under the hood.\n\nAn apparatus map with standard mkh5 Right Anterior Superior (RAS)\nelectrode locations is required and rotated automatically to the\nEEGLAB default coordinates. This can be included in the .yhdr YAML\nfile when creating the mkh5 file or added later when converting to\nEEGLAB as shown here. The apparatus map format is the same.\n\n<div class=\"alert alert-info\"><h4>Note</h4><p>The first time you load the .set file into EEGLAB clean up the EEGLAB\n   events and center the channel locations with spherical\n   coordinates. In MATLAB\n\n   .. code-block::\n\n      >> eeglab\n      >> EEG = pop_loadset('filename','sub00.set')\n      >> EEG = eeg_checkset(EEG, 'eventconsistency')\n      >> pop_chanedit(EEG)</p></div>\n\n"
      ]
    },
    {
      "cell_type": "markdown",
      "metadata": {},
      "source": [
        "FYI ... environment and versions.\n\n"
      ]
    },
    {
      "cell_type": "code",
      "execution_count": null,
      "metadata": {
        "collapsed": false
      },
      "outputs": [],
      "source": [
        "import os\nimport mne\nimport mkpy\nfrom mkpy.io import mkh5eeglab, mkh5mne\n\n\nprint(\"conda env\", os.environ[\"CONDA_DEFAULT_ENV\"])\nfor pkg in [mkpy, mne]:\n    print(pkg.__name__, pkg.__version__)"
      ]
    },
    {
      "cell_type": "markdown",
      "metadata": {},
      "source": [
        "## :py:func:`.mkh5eeglab.mkh5_to_set`\n\nConvert an mkh5 **file** into an EEGLAB format .set file\n\n* Adding `epochs_name` is optional, it adds the event tags\n  from the named epochs table to EEG.events and EEG.urevents.\n\n* Adding `garv_annotations` is optional but adds \"boundary\" events\n  to EEG.events and EEG.urevents\n\nThe sample data is a single subject mkh5 data file for an auditory oddball paradigm.\n\n"
      ]
    },
    {
      "cell_type": "markdown",
      "metadata": {},
      "source": [
        "Minimal export: EEG data, datablock labels and boundaries, and log event codes.\nThe mkh5 file has electrode locations baked in via the YAML .yhdr\n\n"
      ]
    },
    {
      "cell_type": "code",
      "execution_count": null,
      "metadata": {
        "collapsed": false
      },
      "outputs": [],
      "source": [
        "mkh5eeglab.mkh5_to_set(\"../mkh5_data/sub000p3.h5\", \"sub000p3.set\")"
      ]
    },
    {
      "cell_type": "markdown",
      "metadata": {},
      "source": [
        "Export with alternate electrode locations\n\n"
      ]
    },
    {
      "cell_type": "code",
      "execution_count": null,
      "metadata": {
        "collapsed": false
      },
      "outputs": [],
      "source": [
        "mkh5eeglab.mkh5_to_set(\n    \"../mkh5_data/sub000p3.h5\",\n    \"sub000p3.set\",\n    apparatus_yaml=\"ras_32chan_xyz_spherical.yml\",\n)"
      ]
    },
    {
      "cell_type": "markdown",
      "metadata": {},
      "source": [
        "Complete export with codemap event tags from epochs table \"ms1500\"\nand garv annotations for those events.\n\n"
      ]
    },
    {
      "cell_type": "code",
      "execution_count": null,
      "metadata": {
        "collapsed": false
      },
      "outputs": [],
      "source": [
        "mkh5eeglab.mkh5_to_set(\n    \"../mkh5_data/sub000p3.h5\",  # file to convert\n    \"sub000p3.set\",  # eeglab file\n    apparatus_yaml=\"ras_32chan_xyz_spherical.yml\",  # electrode locations\n    epochs_name=\"ms1500\",  # epochs table with tagged events\n    garv_annotations={\n        \"event_channel\": \"ms1500\",  # mark garv artifacts for tagged events\n        \"tmin\": -750,\n        \"tmax\": 750,\n        \"units\": \"ms\",\n    },\n)"
      ]
    }
  ],
  "metadata": {
    "kernelspec": {
      "display_name": "Python 3",
      "language": "python",
      "name": "python3"
    },
    "language_info": {
      "codemirror_mode": {
        "name": "ipython",
        "version": 3
      },
      "file_extension": ".py",
      "mimetype": "text/x-python",
      "name": "python",
      "nbconvert_exporter": "python",
      "pygments_lexer": "ipython3",
      "version": "3.8.13"
    }
  },
  "nbformat": 4,
  "nbformat_minor": 0
}