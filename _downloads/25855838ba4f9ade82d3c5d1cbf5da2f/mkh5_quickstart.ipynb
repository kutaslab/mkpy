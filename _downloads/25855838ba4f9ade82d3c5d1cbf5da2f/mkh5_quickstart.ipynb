{
  "cells": [
    {
      "cell_type": "code",
      "execution_count": null,
      "metadata": {
        "collapsed": false
      },
      "outputs": [],
      "source": [
        "%matplotlib inline"
      ]
    },
    {
      "cell_type": "markdown",
      "metadata": {},
      "source": [
        "\n\n\n\n# mkh5 Quickstart\n"
      ]
    },
    {
      "cell_type": "markdown",
      "metadata": {},
      "source": [
        "#. In a terminal window use ``mamba`` (recommended) or ``conda`` (if\n   necessary) to install mkpy along with jupyter or jupyterlab\n   into a fresh environment and activate it:\n\n   .. code-block:: bash\n\n      $ mamba create --name mkpy_041221 mkpy jupyterlab \\\n           -c kutaslab -c conda-forge -c defaults \\\n           --strict-channel-priority\n      $ conda activate mkpy_041221\n\n\n#. In a terminal window navigate to the directory where you want\n   to work and run::\n\n   $ jupyter notebook\n\n#. Open a notebook with a Python 3 kernel and proceed.\n\n"
      ]
    },
    {
      "cell_type": "markdown",
      "metadata": {},
      "source": [
        "Single subject single session workflow\n\n"
      ]
    },
    {
      "cell_type": "code",
      "execution_count": null,
      "metadata": {
        "collapsed": false
      },
      "outputs": [],
      "source": [
        "from mkpy import mkh5 as mkh5\n\nDATA_H5_F = \"../mkh5_data/_sub000p3.h5\"\ndata_h5 = mkh5.mkh5(DATA_H5_F)\ndata_h5.reset_all()\n\n# load the crw, log, and YAML header\ndata_h5.create_mkdata(\n    \"sub000\",\n    \"../mkdig_data/sub000p3.crw\",\n    \"../mkdig_data/sub000p3.x.log\",\n    \"../mkdig_data/sub000p3.yhdr\",\n)"
      ]
    },
    {
      "cell_type": "markdown",
      "metadata": {},
      "source": [
        "If calibration pulses are not in the .crw file, append them like so:\n\n"
      ]
    },
    {
      "cell_type": "code",
      "execution_count": null,
      "metadata": {
        "collapsed": false
      },
      "outputs": [],
      "source": [
        "data_h5.append_mkdata(\n    \"sub000\",\n    \"../mkdig_data/sub000c.crw\",\n    \"../mkdig_data/sub000c.log\",\n    \"../mkdig_data/sub000c.yhdr\",\n)\n\n# Visually check the calibration parameters.\npts, pulse, lo, hi, ccode = 3, 10, -50, 50, 0\nfig, ax = data_h5.plotcals(\n    DATA_H5_F,\n    \"sub000\",\n    n_points=pts,  # pts to average, either side of cursor\n    cal_size=pulse,  # uV\n    lo_cursor=lo,  # lo_cursor ms\n    hi_cursor=hi,  # hi_cursor ms\n    cal_ccode=ccode,\n)\nfig.show()"
      ]
    },
    {
      "cell_type": "markdown",
      "metadata": {},
      "source": [
        "Scale the EEG A/D to microvolts.\n\n"
      ]
    },
    {
      "cell_type": "code",
      "execution_count": null,
      "metadata": {
        "collapsed": false
      },
      "outputs": [],
      "source": [
        "data_h5.calibrate_mkdata(\n    \"sub000\",\n    n_points=pts,\n    cal_size=pulse,\n    lo_cursor=lo,\n    hi_cursor=hi,\n    cal_ccode=ccode,\n    use_cals=None,\n)"
      ]
    },
    {
      "cell_type": "markdown",
      "metadata": {},
      "source": [
        "Examine some header info with :py:meth:`.mkh5.headinfo`\n\n"
      ]
    },
    {
      "cell_type": "code",
      "execution_count": null,
      "metadata": {
        "collapsed": false
      },
      "outputs": [],
      "source": [
        "data_h5.headinfo(\"dblock_0.*samplerate\")\ndata_h5.headinfo(\"dblock_0.*MiPa\")"
      ]
    }
  ],
  "metadata": {
    "kernelspec": {
      "display_name": "Python 3",
      "language": "python",
      "name": "python3"
    },
    "language_info": {
      "codemirror_mode": {
        "name": "ipython",
        "version": 3
      },
      "file_extension": ".py",
      "mimetype": "text/x-python",
      "name": "python",
      "nbconvert_exporter": "python",
      "pygments_lexer": "ipython3",
      "version": "3.8.13"
    }
  },
  "nbformat": 4,
  "nbformat_minor": 0
}