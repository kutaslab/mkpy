{
  "cells": [
    {
      "cell_type": "code",
      "execution_count": null,
      "metadata": {
        "collapsed": false
      },
      "outputs": [],
      "source": [
        "%matplotlib inline"
      ]
    },
    {
      "cell_type": "markdown",
      "metadata": {},
      "source": [
        "\n# Read h5 to mne.Raw\n"
      ]
    },
    {
      "cell_type": "markdown",
      "metadata": {},
      "source": [
        "## Set up\n\n"
      ]
    },
    {
      "cell_type": "code",
      "execution_count": null,
      "metadata": {
        "collapsed": false
      },
      "outputs": [],
      "source": [
        "import mne\nfrom mkpy import mkh5\nfrom mkpy.io import mkh5mne\n\n# to be clear ...\nfor pkg in [mkh5, mne]:\n    print(pkg.__name__, pkg.__version__)"
      ]
    },
    {
      "cell_type": "markdown",
      "metadata": {},
      "source": [
        "## mne.Raw without epochs\n\nResting EEG with no mkpy codemapped events or epochs tables. It\nincludes data before and after scaling to $\\mu$ V for\ndemonstration, the user warnings are expected.\n\n"
      ]
    },
    {
      "cell_type": "code",
      "execution_count": null,
      "metadata": {
        "collapsed": false
      },
      "outputs": [],
      "source": [
        "eeg_h5_f = \"../mkh5_data/sub000eeg.h5\"\neeg_raw = mkh5mne.read_raw_mkh5(eeg_h5_f)\nprint(type(eeg_raw))\n\neeg_raw.plot(\n    scalings={\"eeg\": 5e-5, \"eog\": 1e-4},  # scale eog and eeg channels separately\n    start=282.0,  # seconds into the recording\n    n_channels=39,  # EEG + event channels\n)"
      ]
    },
    {
      "cell_type": "markdown",
      "metadata": {},
      "source": [
        "## mne.Raw with events and epochs\n\nThe events in this oddball paradigm were tagged with a codemap and used\nto set epochs of different lengths.\n\n"
      ]
    },
    {
      "cell_type": "code",
      "execution_count": null,
      "metadata": {
        "collapsed": false
      },
      "outputs": [],
      "source": [
        "p3_h5_f = \"../mkh5_data/sub000p3.h5\"\n\n# reusable plot parameters\np3_raw_kws = dict(scalings={\"eeg\": 5e-5, \"eog\": 1e-4}, start=10.0, n_channels=39)\n\np3_raw = mkh5mne.read_raw_mkh5(p3_h5_f)\np3_raw.plot(**p3_raw_kws)"
      ]
    },
    {
      "cell_type": "markdown",
      "metadata": {},
      "source": [
        "This mkh5mne helper method converts garv log_flags artifact events to \"BAD_garv\" mne.Annotations\nfor use with native MNE data screening.\n\n"
      ]
    },
    {
      "cell_type": "code",
      "execution_count": null,
      "metadata": {
        "collapsed": false
      },
      "outputs": [],
      "source": [
        "garv_bads = mkh5mne.get_garv_bads(p3_raw, \"ms1500\", garv_interval=[-750, 750, \"ms\"])\n\nprint(garv_bads, garv_bads.description)"
      ]
    }
  ],
  "metadata": {
    "kernelspec": {
      "display_name": "Python 3",
      "language": "python",
      "name": "python3"
    },
    "language_info": {
      "codemirror_mode": {
        "name": "ipython",
        "version": 3
      },
      "file_extension": ".py",
      "mimetype": "text/x-python",
      "name": "python",
      "nbconvert_exporter": "python",
      "pygments_lexer": "ipython3",
      "version": "3.8.5"
    }
  },
  "nbformat": 4,
  "nbformat_minor": 0
}