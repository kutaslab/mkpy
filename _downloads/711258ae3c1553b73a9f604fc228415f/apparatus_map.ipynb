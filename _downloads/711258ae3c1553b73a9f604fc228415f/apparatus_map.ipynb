{
  "cells": [
    {
      "cell_type": "code",
      "execution_count": null,
      "metadata": {
        "collapsed": false
      },
      "outputs": [],
      "source": [
        "%matplotlib inline"
      ]
    },
    {
      "cell_type": "markdown",
      "metadata": {},
      "source": [
        "\n# Electrode location YAML format\n"
      ]
    },
    {
      "cell_type": "markdown",
      "metadata": {},
      "source": [
        "## Electrode locations and fiducial landmarks (optional)\n\nElectrode locations, fiducial landmarks (nasion, left and right\npreauricular points), and head shape data points can be baked into the\nmkpy .h5 data header by including a ``name: apparatus`` YAML document\nin the ``.yhdr`` so that the location information travels with the EEG\n\nThe mkh5 standard apparatus specifies a 3D <x, y, z> cartesian\ncoordinate space, <right, anterior, superior> (RAS) orientation, with\nmeasurement units of centimeters.\n\nA minimal apparatus map has the following keys, additional keys may be\nadded ad lib.\n\nAddition fields may be added to the maps.\n\n.. code-block:: yaml\n\n   ---\n   # mandatory keys and values\n   name: apparatus\n   space:\n     coordinates: cartesian\n     distance_unit: cm\n     orientation: ras\n\n   # mandatory keys. RAS x, y, z values may vary\n   fiducials:\n     lpa:\n       x: <float>\n       y: <float>\n       z: <float>\n     nasion:\n       x: <float>\n       y: <float>\n       z: <float>\n     rpa:\n       x: <float>\n       y: <float>\n       z: <float>\n\n   # EEG data straems (\"channels\")\n   streams:\n     label:\n       pos: <sensor_label>\n       neg: <sensor(s) label>\n\n   # ... as needed ...\n\n   # The nmber of electrodes, labels, and x, y, z  values are as needed\n   sensors:\n     label:\n       x: <float>\n       y: <float>\n       z: <float>\n\n   # ... as needed ...\n\n\n"
      ]
    },
    {
      "cell_type": "markdown",
      "metadata": {},
      "source": [
        "For the current format see `sample_yhdr`\n\n"
      ]
    }
  ],
  "metadata": {
    "kernelspec": {
      "display_name": "Python 3",
      "language": "python",
      "name": "python3"
    },
    "language_info": {
      "codemirror_mode": {
        "name": "ipython",
        "version": 3
      },
      "file_extension": ".py",
      "mimetype": "text/x-python",
      "name": "python",
      "nbconvert_exporter": "python",
      "pygments_lexer": "ipython3",
      "version": "3.8.13"
    }
  },
  "nbformat": 4,
  "nbformat_minor": 0
}