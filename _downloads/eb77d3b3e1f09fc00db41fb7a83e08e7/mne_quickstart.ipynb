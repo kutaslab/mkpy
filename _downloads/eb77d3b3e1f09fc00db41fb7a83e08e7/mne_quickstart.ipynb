{
  "cells": [
    {
      "cell_type": "code",
      "execution_count": null,
      "metadata": {
        "collapsed": false
      },
      "outputs": [],
      "source": [
        "%matplotlib inline"
      ]
    },
    {
      "cell_type": "markdown",
      "metadata": {},
      "source": [
        "\n# Quickstart: mkh5 to MNE\n"
      ]
    },
    {
      "cell_type": "markdown",
      "metadata": {},
      "source": [
        "The sample data is a single subject mkh5 data file for an auditory oddball paradigm.\n\n"
      ]
    },
    {
      "cell_type": "markdown",
      "metadata": {},
      "source": [
        "FYI ... environment and versions. The MNE browser backend is set for generating these docs.\n\n"
      ]
    },
    {
      "cell_type": "code",
      "execution_count": null,
      "metadata": {
        "collapsed": false
      },
      "outputs": [],
      "source": [
        "import os\nimport mne\nimport mkpy\nfrom mkpy.io import mkh5mne\n\nmne.viz.set_browser_backend(\"matplotlib\")\n\nprint(\"conda env\", os.environ[\"CONDA_DEFAULT_ENV\"])\nfor pkg in [mkpy, mne]:\n    print(pkg.__name__, pkg.__version__)"
      ]
    },
    {
      "cell_type": "markdown",
      "metadata": {},
      "source": [
        "## :py:func:`.mkh5mne.from_mkh5`\n\nImport an mkh5 file into the MNE ecosystem\n\n* MNE requires electrode locations. Include them in .yhdr YAML file\n  when creating the mkh5 data or add them when converting to MNE as\n  shown here. The apparatus map format is the same.\n\n* Adding garv annotations is optional but enables the MNE automatic\n  rejection option for creating epochs.\n\n"
      ]
    },
    {
      "cell_type": "code",
      "execution_count": null,
      "metadata": {
        "collapsed": false
      },
      "outputs": [],
      "source": [
        "mne_raw = mkh5mne.from_mkh5(\n    \"../mkh5_data/sub000p3.h5\",  # file to convert\n    apparatus_yaml=\"mne_32chan_xyz_spherical.yml\",  # electrode locations\n    garv_annotations={\n        \"event_channel\": \"ms1500\",  # annotate events on this channel\n        \"tmin\": -750,\n        \"tmax\": 750,\n        \"units\": \"ms\",\n    },\n)"
      ]
    },
    {
      "cell_type": "markdown",
      "metadata": {},
      "source": [
        "Now run other mkh5mne functions and native MNE methods on `mne_raw`\n\n"
      ]
    },
    {
      "cell_type": "code",
      "execution_count": null,
      "metadata": {
        "collapsed": false
      },
      "outputs": [],
      "source": [
        "#  mkpy.io.mkh5mne custom event finder\np3_events = mkh5mne.find_mkh5_events(mne_raw, \"ms1500\")\n\n# MNE native ploting\n_ = mne_raw.plot(\n    p3_events,\n    start=53.0,\n    duration=3.0,\n)\n_ = mne.viz.plot_sensors(mne_raw.info)"
      ]
    },
    {
      "cell_type": "markdown",
      "metadata": {},
      "source": [
        "## :py:func:`.mkh5mne.get_epochs`\n\nCreate a native :py:class:`mne.Epochs` and attach the event\ntags from a named mkh5 epochs table as the :py:obj:`mne.Epochs.metadata`.\n\nPass in the same arguments and key word arguments as you would for\n:py:meth:`mne.Epochs`.\n\n"
      ]
    },
    {
      "cell_type": "code",
      "execution_count": null,
      "metadata": {
        "collapsed": false
      },
      "outputs": [],
      "source": [
        "mne_epochs = mkh5mne.get_epochs(\n    mne_raw,\n    \"ms1500\",\n    preload=True,  # populate the Epochs with data and apply projections\n    reject_by_annotation=True,  # drop the BAD_* annotations or set False to keep them\n    baseline=(-0.2, 0.0),  # center on this interval\n)\nmne_epochs"
      ]
    },
    {
      "cell_type": "markdown",
      "metadata": {},
      "source": [
        "## Gotcha: :py:meth:`mne.find_events` **IS UNSAFE**\n\n<div class=\"alert alert-danger\"><h4>Warning</h4><p>Use mkh5 data use :py:meth:`.mkh5mne.find_mkh5_events` to create\n   MNE event arrays. **DO NOT use the native MNE**\n   :py:meth:`mne.find_events` the results may be incorrect.</p></div>\n\nVarious MNE raw data methods including plotting and epoching\ningest a 3-column `event_array` of [sample, 0, event] that says\nwhere (column 0) and what (column 2) the events are.\n\nThe event array data format is sound and processing event\narrays is reliable.\n\nUnfortunately the native MNE event lookup utility\n:py:meth:`mne.find_events` for **creating** event arrays from\nevent channels forcibly converts negative events to positive.\n\nTe .crw/.log/mkh5 data format routinely uses negative event codes\nfor pause marks, data errors, and manually logpoked negative event\ncodes. Changing the sign to positive folds them back back into the\nexperimental event code range and creates creates spurious events.\n\n\n"
      ]
    }
  ],
  "metadata": {
    "kernelspec": {
      "display_name": "Python 3",
      "language": "python",
      "name": "python3"
    },
    "language_info": {
      "codemirror_mode": {
        "name": "ipython",
        "version": 3
      },
      "file_extension": ".py",
      "mimetype": "text/x-python",
      "name": "python",
      "nbconvert_exporter": "python",
      "pygments_lexer": "ipython3",
      "version": "3.8.13"
    }
  },
  "nbformat": 4,
  "nbformat_minor": 0
}